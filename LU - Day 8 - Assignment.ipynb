{
 "cells": [
  {
   "cell_type": "markdown",
   "metadata": {},
   "source": [
    "Question 1:\n",
    "Recreate “NB 21 map, filter, lambda.ipynb” to try different variations or perform different calculations from\n",
    "the ones that are in the NB"
   ]
  },
  {
   "cell_type": "code",
   "execution_count": 52,
   "metadata": {},
   "outputs": [
    {
     "name": "stdout",
     "output_type": "stream",
     "text": [
      "<map object at 0x00000297E050F550>\n",
      "<class 'map'>\n",
      "map example 1 [5, 7, 9]\n",
      "map example 2 [4, 10, 18]\n",
      "map example 3 ['aa', 'mm', 'ia', 'rr']\n",
      "Lamda example 1 [5, 7, 9]\n",
      "Lamda example 2 [4, 10, 18]\n",
      "filter example:  [5, 7, 9, 11, 13, 15]\n",
      "Reduce example:  320\n",
      "lambda + Reduce example:  320\n",
      "filter within map:  [1, 4, 9, 36, 49, 64, 81]\n",
      "map within filter:  [1, 9, 16, 25, 36, 49, 64, 81]\n"
     ]
    }
   ],
   "source": [
    "#Map - maps required function to any given iterables(list, string,tuple etc.) & will return as list\n",
    "\n",
    "def sum1(a,b): #user-defined function\n",
    "    return a+b\n",
    "def multi1(a,b):\n",
    "    return a*b\n",
    "x = map(sum1,(1,2,3),(4,5,6)) #input is tuple\n",
    "z = map(sum1,\"amir\",\"amar\") #input is String\n",
    "y = map(multi1,[1,2,3],[4,5,6]) #input is list\n",
    "\n",
    "print(x) #x stores the map object\n",
    "print(type(x)) #type is map\n",
    "\n",
    "#inorder to see the value of the map object\n",
    "print('map example 1',list(x))\n",
    "print('map example 2',list(y))\n",
    "print('map example 3',list(z))\n",
    "\n",
    "\n",
    "#lambda are one time use function. you need not define it in advance & can do so directly when in use, in a single line.\n",
    "#The can also act as an input to other functions.\n",
    "\n",
    "#same example as given above using the lambda function\n",
    "k = map(lambda a,b:a+b,(1,2,3),(4,5,6))\n",
    "j = map(lambda a,b:a*b,[1,2,3],[4,5,6])\n",
    "\n",
    "print('Lamda example 1',list(k))\n",
    "print('Lamda example 2',list(j))\n",
    "\n",
    "\n",
    "#filter - It filters out a given iterable based on the condiotion of the given function\n",
    "p = filter(lambda a:a%2!=0,(4,5,6,7,8,9,10,11,12,13,14,15)) #checks for odd number\n",
    "\n",
    "print('filter example: ',list(p))\n",
    "\n",
    "#reduce - It is going to reduce input to a single value\n",
    "#in order to use it you need to 1st import it from functools module\n",
    "from functools import reduce\n",
    "\n",
    "s=reduce(sum1,(10,2,3,4,40,233,28)) #sum1 requires 2 input - by default it take index 0 & 1 as initial 2 input\n",
    "\n",
    "print('Reduce example: ',s)\n",
    "\n",
    "#lambda+reduce\n",
    "t=reduce(lambda a,b:a+b,(10,2,3,4,40,233,28))\n",
    "print('lambda + Reduce example: ', t)\n",
    "\n",
    "#In below example, the compiler folows the PEMDAS rule. Hint: follow the inner bracket\n",
    "#filter within map\n",
    "u = map(lambda x: x*x,  filter(lambda x: x//2!=2, [1,2,3,4,5,6,7,8,9]))\n",
    "\n",
    "print('filter within map: ',list(u))\n",
    "\n",
    "#map within filter\n",
    "v = filter(lambda x: x//2!=2,  map(lambda x: x*x, [1,2,3,4,5,6,7,8,9]))\n",
    "\n",
    "print('map within filter: ',list(v))\n",
    "\n",
    "\n",
    "# map, filter & reduce requires (function, iterable)"
   ]
  },
  {
   "cell_type": "markdown",
   "metadata": {},
   "source": [
    "Question 2:\n",
    "Recreate your own Python NB for “Classes and Objects” from the pdf provided namely\n",
    "“Classes&Objects.pdf”\n",
    "https://drive.google.com/file/d/1dVzTaeSrMBqsVGhwZBmboOy5w2q5j9Fj/view"
   ]
  },
  {
   "cell_type": "raw",
   "metadata": {},
   "source": [
    "Classes are like blueprint for the Object/design for the object.\n",
    "Example the \"building a tower\" --> here Tower is the Object & the blueprint that i will create in order to build that object(tower) is called the class. So if you want an object you need to define a Class. \n",
    "\n",
    "Example of other class we know are string, int, list etc. but these is in-built within Python.\n",
    "Example list is class & list.append() is method within that class\n",
    "\n",
    "class keyword is used to define the class followed by name.\n",
    "Further you have to mention attributes(variables) & behaviour(methods/functions)\n",
    "\n",
    "class Employee:                    #This is how declare a class.class is a keyword in python\n",
    "    empcode=0                      #This is a class variable. It can be accessed every where within claas. instance                                             variable is part of method within the class.\n",
    "    \n",
    "    def name(par1, para2):         #This is how method within the class is created. Similar to defining a function:\n",
    "        print(\"something\")\n",
    " \n",
    "x = Employee(self,otherinput)      #This is how object is created & required parameter are passed\n",
    "x.name()                           #This is how a method within the class is accessed"
   ]
  }
 ],
 "metadata": {
  "kernelspec": {
   "display_name": "Python 3",
   "language": "python",
   "name": "python3"
  },
  "language_info": {
   "codemirror_mode": {
    "name": "ipython",
    "version": 3
   },
   "file_extension": ".py",
   "mimetype": "text/x-python",
   "name": "python",
   "nbconvert_exporter": "python",
   "pygments_lexer": "ipython3",
   "version": "3.7.1"
  }
 },
 "nbformat": 4,
 "nbformat_minor": 2
}
