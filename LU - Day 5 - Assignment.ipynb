{
 "cells": [
  {
   "cell_type": "raw",
   "metadata": {},
   "source": [
    "Question 1 :\n",
    "Write a Python program to find the first 20 non-even prime natural numbers."
   ]
  },
  {
   "cell_type": "code",
   "execution_count": 9,
   "metadata": {},
   "outputs": [
    {
     "name": "stdout",
     "output_type": "stream",
     "text": [
      "Enter number: 100\n",
      "The first 20 non even prime numbers are[3, 6, 7, 8, 9, 11, 12, 13, 14, 15, 16, 17, 18, 19, 21, 22, 23, 24, 26, 27]\n"
     ]
    }
   ],
   "source": [
    "#0 & 1 not prime number\n",
    "#2 is the only even prime number\n",
    "#All other are odd\n",
    "l=[]\n",
    "\n",
    "a = int(input(\"Enter number: \"))\n",
    "for i in range(2,a):\n",
    "    if a%i==0:\n",
    "        continue\n",
    "    elif len(l)<20:\n",
    "        l.append(i)\n",
    "    else:\n",
    "        break\n",
    "print(f\"The first 20 non even prime numbers are{l}\")"
   ]
  },
  {
   "cell_type": "raw",
   "metadata": {},
   "source": [
    "Question 2 :\n",
    "Write a Python program to implement 15 functions of string."
   ]
  },
  {
   "cell_type": "code",
   "execution_count": 28,
   "metadata": {},
   "outputs": [
    {
     "name": "stdout",
     "output_type": "stream",
     "text": [
      "capitalize:  Dikshit shetty is a boy\n",
      "casefold:  i am dikshit shetty\n",
      "center:               dikshit shetty is a boy              \n",
      "count:  3\n",
      "swapcases:  i am dikshit sHETTY\n",
      "upper:  DIKSHIT SHETTY IS A BOY\n",
      "endswith False\n",
      "expandtabs:  I A                                               M dik                                             shit She                                          tty\n",
      "find:  1\n",
      "Rfind:  15\n",
      "format: Dikshit is 36 years old\n",
      "replace:  dikshiz shezzy is a boy\n",
      "isnumeric:  False\n",
      "index:  6\n",
      "zfill:  00000000000I AM DIKSHIT Shetty\n",
      "isupper:  False\n"
     ]
    }
   ],
   "source": [
    "b=\"dikshit shetty is a boy\"\n",
    "a=\"I AM DIKSHIT Shetty\"\n",
    "d=\"I A\\tM dik\\tshit She\\ttty\"\n",
    "c=\"Dikshit is {} years old\"\n",
    "age=36\n",
    "\n",
    "print(\"capitalize: \", b.capitalize()) #will captilize the 1st letter of the sentence\n",
    "print(\"casefold: \",a.casefold()) #Similar to lower. make the letter in the sentence in lower case\n",
    "print(\"center: \",b.center(50)) #agrment takes in a number & add the given string in the middle of the number (of spaces).\n",
    "print(\"count: \", b.count(\"i\")) #counts the number of time the the argument in repeated in the string\n",
    "print(\"swapcases: \",a.swapcase()) #upper become lowercase & vice versa\n",
    "print(\"upper: \",b.upper()) #entire string becomes uppercase\n",
    "print(\"endswith\",b.endswith(\"i\")) #Gives a true or false statment\n",
    "print(\"expandtabs: \",d.expandtabs(50)) #expands the already present tabs within the sentence\n",
    "print(\"find: \",b.find(\"i\")) #will find the where the given argument 1st appeared in the string. by default from the left\n",
    "print(\"Rfind: \",b.rfind(\"i\"))#same as find but from the right. by default it is from right\n",
    "print(\"format:\",c.format(age)) #{} is the placeholder where the argument passed will be placed\n",
    "print(\"replace: \",b.replace(\"t\",\"z\")) #1st argument is the letter to be found & next argument is letter to be replace with. letter as 1st argument will be replaced with letter as 2nd argument\n",
    "print(\"isnumeric: \",b.isnumeric()) #Will give true or false answers\n",
    "print(\"index: \",b.index(\"t\")) #Will give index value of letter in the string\n",
    "print(\"zfill: \",a.zfill(30)) #Will make the string of length 30, by adding 30\n",
    "print(\"isupper: \", b.isupper()) #Gives true or false as Output\n",
    "\n",
    "b.isalnum"
   ]
  },
  {
   "cell_type": "raw",
   "metadata": {},
   "source": [
    "Question 3:\n",
    "Write a Python program to check if the given string is a Palindrome or Anagram or None of them. Display\n",
    "the message accordingly to the user."
   ]
  },
  {
   "cell_type": "code",
   "execution_count": 36,
   "metadata": {},
   "outputs": [
    {
     "name": "stdout",
     "output_type": "stream",
     "text": [
      "enter 1st string to check anagram: listen\n",
      "enter 2nd string to check anagram: slient\n",
      "enter 1st string to check palindrome: malayalam\n",
      "listen & slient are anagrams\n",
      "malayalam is a palindrome\n"
     ]
    }
   ],
   "source": [
    "#anagram 1st condition to check len should be equal\n",
    "#Each letter should be present\n",
    "\n",
    "def palindrome(s):\n",
    "    if s==s[::-1]:\n",
    "        print(f\"{s} is a palindrome\")\n",
    "    else:\n",
    "        print(f\"{s} is not a palindrome\")\n",
    "    return\n",
    "\n",
    "def anagram(t,v):\n",
    "    if sorted(t)==sorted(v):\n",
    "        print(f\"{t} & {v} are anagrams\")\n",
    "    else:\n",
    "        print(f\"{t} & {v} are not an anagram\")\n",
    "    return\n",
    "        \n",
    "f = str(input(\"enter 1st string to check anagram: \"))\n",
    "g =str(input(\"enter 2nd string to check anagram: \"))\n",
    "h = str(input(\"enter 1st string to check palindrome: \"))\n",
    "anagram(f,g)\n",
    "palindrome(h)"
   ]
  },
  {
   "cell_type": "raw",
   "metadata": {},
   "source": [
    "Question 4:\n",
    "Write a Python's user-defined function that removes all the additional characters from the string and\n",
    "convert it finally to lower case using built-in lower(). eg: If the string is \"Dr. Darshan Ingle @AIML Trainer\",\n",
    "then the output be \"drdarshaningleaimltrainer\"."
   ]
  },
  {
   "cell_type": "code",
   "execution_count": 58,
   "metadata": {},
   "outputs": [
    {
     "name": "stdout",
     "output_type": "stream",
     "text": [
      "enter a string: Dr. Darshan Ingle @AIML Trainer\n",
      "The output value is: drdarshaningleaimltrainer\n"
     ]
    }
   ],
   "source": [
    "additional_characters = [\".\",\"@\",\"$\",\"%\",\"&\",\" \",\"#\",\"!\",\"*\"]\n",
    "def remcharlower(s):\n",
    "    for i in additional_characters:\n",
    "        s=s.replace(i,\"\") \n",
    "    s=s.lower()\n",
    "    print(f\"The output value is: {s}\")\n",
    "    return\n",
    "\n",
    "t = str(input(\"enter a string: \"))\n",
    "remcharlower(t)"
   ]
  },
  {
   "cell_type": "code",
   "execution_count": null,
   "metadata": {},
   "outputs": [],
   "source": []
  }
 ],
 "metadata": {
  "kernelspec": {
   "display_name": "Python 3",
   "language": "python",
   "name": "python3"
  },
  "language_info": {
   "codemirror_mode": {
    "name": "ipython",
    "version": 3
   },
   "file_extension": ".py",
   "mimetype": "text/x-python",
   "name": "python",
   "nbconvert_exporter": "python",
   "pygments_lexer": "ipython3",
   "version": "3.7.1"
  }
 },
 "nbformat": 4,
 "nbformat_minor": 2
}
