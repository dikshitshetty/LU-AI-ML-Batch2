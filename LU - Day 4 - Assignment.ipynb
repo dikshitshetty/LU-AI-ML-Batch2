{
 "cells": [
  {
   "cell_type": "raw",
   "metadata": {},
   "source": [
    "Question 1 :\n",
    "Research on whether addition, subtraction, multiplication, division, floor division, and modulo operations\n",
    "be performed on complex numbers. Based on your study, implement a Python program to demonstrate\n",
    "these operations."
   ]
  },
  {
   "cell_type": "code",
   "execution_count": 20,
   "metadata": {},
   "outputs": [
    {
     "name": "stdout",
     "output_type": "stream",
     "text": [
      "(6+9j)\n",
      "(-2-3j)\n",
      "(-10+24j)\n",
      "(0.5+0j)\n"
     ]
    }
   ],
   "source": [
    "a=2+3j\n",
    "b=4+6j\n",
    "c=3\n",
    "\n",
    "print(a+b)\n",
    "print(a-b)\n",
    "print(a*b)\n",
    "print(a/b)\n",
    "#print(a//b) cannot perform floor division case 1:both are Complex number\n",
    "#print(a//c) cannot perform floor division case 2:both are Real number\n",
    "#print(a%b) cannot perform modulo case 1:both are Complex number\n",
    "#print(a%c) cannot perform modulo case 2:one is a Real number\n"
   ]
  },
  {
   "cell_type": "markdown",
   "metadata": {},
   "source": [
    "Addition, Subtraction, Multiplication, Division are possible in both cases i.e. when both the numbers are complex or if one is real.\n",
    "Modulo & floor division cannot be performed in the both of the mentioned cases.\n",
    "These are not defined for Python 3.x but can be found for 2.x"
   ]
  },
  {
   "cell_type": "raw",
   "metadata": {},
   "source": [
    "Question 2 :\n",
    "Research on range() functions and its parameters. Create a markdown cell and write in your own words\n",
    "(no copy-paste from google please) what you understand about it. Implement a small program of your\n",
    "choice on the same."
   ]
  },
  {
   "cell_type": "markdown",
   "metadata": {},
   "source": [
    "## range()\n",
    "range() is a built-in function in python. \n",
    "\n",
    "It is used for iterating a task for specific number of times. It can take 3 parameters/arguments.\n",
    "\n",
    "1. Stop (Required) & \n",
    "2. Start(Optional)\n",
    "3. Step (Optional)\n",
    "\n",
    "    * Stops mentions what is the end of the range\n",
    "    * Start mentions the start of the range\n",
    "    * Step mentions how many numbers to skip/after how many number in the range should consider the next number in the range"
   ]
  },
  {
   "cell_type": "code",
   "execution_count": 13,
   "metadata": {},
   "outputs": [
    {
     "name": "stdout",
     "output_type": "stream",
     "text": [
      "[2, 5, 8, 11, 14, 17, 20, 23, 26, 29, 32, 35, 38, 41, 44, 47, 50, 53, 56, 59, 62, 65, 68, 71, 74, 77, 80, 83, 86, 89, 92, 95, 98]\n"
     ]
    }
   ],
   "source": [
    "list1=[]\n",
    "for i in range(2,100,3):\n",
    "    list1.append(i)\n",
    "print(list1)"
   ]
  },
  {
   "cell_type": "raw",
   "metadata": {},
   "source": [
    "Question 3:\n",
    "Consider two numbers. Perform their subtraction and if the result of subtraction is greater than 25, print\n",
    "their multiplication result else print their division result."
   ]
  },
  {
   "cell_type": "code",
   "execution_count": 8,
   "metadata": {},
   "outputs": [
    {
     "name": "stdout",
     "output_type": "stream",
     "text": [
      "Enter your 1st number: 20\n",
      "Enter your 2nd number: 10\n",
      "Their Subtraction result is 10\n",
      "Since 10 is not greater than 25, division of 2 numbers is: 2\n"
     ]
    }
   ],
   "source": [
    "a = int(input(\"Enter your 1st number: \"))\n",
    "b = int(input(\"Enter your 2nd number: \"))\n",
    "c=a-b\n",
    "print(f\"Their Subtraction result is {c}\")\n",
    "if c>25:\n",
    "    print(f\"Since {c} is greater than 25, multiplication of 2 numbers is: {a*b}\")\n",
    "else:\n",
    "    print(f\"Since {c} is not greater than 25, division of 2 numbers is: {int(a/b)}\")"
   ]
  },
  {
   "cell_type": "raw",
   "metadata": {},
   "source": [
    "Question 4:\n",
    "Consider a list of 10 elements of integer values. If the number in the list is divisible by 2, print the result as\n",
    "\"square of that number minus 2\".\n"
   ]
  },
  {
   "cell_type": "code",
   "execution_count": 10,
   "metadata": {},
   "outputs": [
    {
     "name": "stdout",
     "output_type": "stream",
     "text": [
      "Square of 20 minus 2 is 398\n",
      "Square of 34 minus 2 is 1154\n",
      "Square of 60 minus 2 is 3598\n",
      "Square of 92 minus 2 is 8462\n",
      "Square of 334 minus 2 is 111554\n"
     ]
    }
   ],
   "source": [
    "l=[20,34,55,60,73,85,92,101,65,334]\n",
    "for i in l:\n",
    "    if i%2==0:\n",
    "        print(f\"Square of {i} minus 2 is {(i**2)-2}\")"
   ]
  },
  {
   "cell_type": "raw",
   "metadata": {},
   "source": [
    "Question 5:\n",
    "Consider a list of 10 elements. Print all the elements in the list which are greater than 7 when that number\n",
    "is divided 2."
   ]
  },
  {
   "cell_type": "code",
   "execution_count": 11,
   "metadata": {},
   "outputs": [
    {
     "name": "stdout",
     "output_type": "stream",
     "text": [
      "The number as required is [15, 20, 23]\n"
     ]
    }
   ],
   "source": [
    "k=[2,4,5,6,7,8,9,15,20,23]\n",
    "t=[]\n",
    "for i in k:\n",
    "    if (i/2)>7:\n",
    "        t.append(i)\n",
    "print(f\"The number as required is {t}\")"
   ]
  }
 ],
 "metadata": {
  "kernelspec": {
   "display_name": "Python 3",
   "language": "python",
   "name": "python3"
  },
  "language_info": {
   "codemirror_mode": {
    "name": "ipython",
    "version": 3
   },
   "file_extension": ".py",
   "mimetype": "text/x-python",
   "name": "python",
   "nbconvert_exporter": "python",
   "pygments_lexer": "ipython3",
   "version": "3.7.1"
  }
 },
 "nbformat": 4,
 "nbformat_minor": 2
}
