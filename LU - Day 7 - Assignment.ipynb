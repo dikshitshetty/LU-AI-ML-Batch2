{
 "cells": [
  {
   "cell_type": "markdown",
   "metadata": {},
   "source": [
    "Question 1:\n",
    "Write a program to copy the contents of one file to another using a for loop. (Don’t use built-in copy\n",
    "function)"
   ]
  },
  {
   "cell_type": "code",
   "execution_count": 85,
   "metadata": {},
   "outputs": [
    {
     "name": "stdout",
     "output_type": "stream",
     "text": [
      "\n",
      "The content of the Copy File Before coping: \n",
      "\n",
      "\n",
      "The content of the Copy File after coping: \n",
      " Hi my name is Soreno\n",
      " i'm 27 years old\n",
      " i like fishing, swimming\n",
      " i like reading & writing\n",
      "\n",
      " Note: readlines method convert the Content within the main_file to <class 'list'>\n"
     ]
    }
   ],
   "source": [
    "main_file=open(\"main_file.txt\",\"w\")\n",
    "z=main_file.write(\"\\n Hi my name is Soreno\\n i'm 27 years old\\n i like fishing, swimming\\n i like reading & writing\")\n",
    "main_file.close()\n",
    "main_file=open(\"main_file.txt\",\"r\")\n",
    "\n",
    "\n",
    "copy_file=open(\"copy_file.txt\",\"r\")\n",
    "print(f\"\\nThe content of the Copy File Before coping: \\n{copy_file.read()}\")\n",
    "copy_file.close()\n",
    "\n",
    "copy_file=open(\"copy_file.txt\",\"w\")\n",
    "x=main_file.readlines()\n",
    "\n",
    "for i in range(0,len(x)):\n",
    "    if i>=0:\n",
    "        copy_file.write(x[i])\n",
    "copy_file.close()\n",
    "copy_file=open(\"copy_file.txt\",\"r\")\n",
    "print(f\"\\nThe content of the Copy File after coping: {copy_file.read()}\")\n",
    "print(f\"\\n Note: readlines method convert the Content within the main_file to {type(x)}\")"
   ]
  },
  {
   "cell_type": "markdown",
   "metadata": {},
   "source": [
    "Question 2:\n",
    "Write a Python program to find maximum and minimum values in the dictionary. Do not use built-in min\n",
    "and max functions."
   ]
  },
  {
   "cell_type": "code",
   "execution_count": 20,
   "metadata": {},
   "outputs": [
    {
     "name": "stdout",
     "output_type": "stream",
     "text": [
      "The Maximum Value of the dictionary is: 973\n",
      "The Minimum Value of the dictionary is: 127\n"
     ]
    }
   ],
   "source": [
    "def Max_Num(x):\n",
    "    num=0\n",
    "    for i in x.values(): \n",
    "        if i>num:\n",
    "            num=i\n",
    "    print(f\"The Maximum Value of the dictionary is: {num}\")\n",
    "\n",
    "def Min_Num(x):\n",
    "    num=10000000\n",
    "    for i in x.values():\n",
    "        if i<num:\n",
    "            num=i\n",
    "    print(f\"The Minimum Value of the dictionary is: {num}\")\n",
    "\n",
    "y={\"dino\":400, \"faria\":780, \"dominic\":262, \"Horendo\":893, \"Lopez\":673, \"felicia\":973, \"Hermano\":127}\n",
    "Max_Num(y)\n",
    "Min_Num(y)\n",
    "\n",
    "            "
   ]
  }
 ],
 "metadata": {
  "kernelspec": {
   "display_name": "Python 3",
   "language": "python",
   "name": "python3"
  },
  "language_info": {
   "codemirror_mode": {
    "name": "ipython",
    "version": 3
   },
   "file_extension": ".py",
   "mimetype": "text/x-python",
   "name": "python",
   "nbconvert_exporter": "python",
   "pygments_lexer": "ipython3",
   "version": "3.7.1"
  }
 },
 "nbformat": 4,
 "nbformat_minor": 2
}
