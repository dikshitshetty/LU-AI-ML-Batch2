{
 "cells": [
  {
   "cell_type": "raw",
   "metadata": {},
   "source": [
    "Write a Program to Subtract 2 complex number"
   ]
  },
  {
   "cell_type": "code",
   "execution_count": 2,
   "metadata": {},
   "outputs": [
    {
     "name": "stdout",
     "output_type": "stream",
     "text": [
      "Enter Your 1st Complex Number8+9j\n",
      "Enter Your 1st Complex Number7+2j\n",
      "(1+7j)\n"
     ]
    }
   ],
   "source": [
    "a = complex(input(\"Enter Your 1st Complex Number\"))\n",
    "b = complex(input(\"Enter Your 1st Complex Number\"))\n",
    "print(a-b)"
   ]
  },
  {
   "cell_type": "raw",
   "metadata": {},
   "source": [
    "Write a program to find the fourth rooth of the program"
   ]
  },
  {
   "cell_type": "code",
   "execution_count": 22,
   "metadata": {},
   "outputs": [
    {
     "name": "stdout",
     "output_type": "stream",
     "text": [
      "Calculate 4th Root of Your Number:81\n"
     ]
    },
    {
     "data": {
      "text/plain": [
       "3.0"
      ]
     },
     "execution_count": 22,
     "metadata": {},
     "output_type": "execute_result"
    }
   ],
   "source": [
    "def fourthroot(a):\n",
    "    b=a**(1/4)\n",
    "    return b\n",
    "a = int(input(\"Calculate 4th Root of Your Number:\"))\n",
    "fourthroot(a)"
   ]
  },
  {
   "cell_type": "raw",
   "metadata": {},
   "source": [
    "Write a Program to swap 2 numbers in Python with the help of a temporary variable"
   ]
  },
  {
   "cell_type": "code",
   "execution_count": 4,
   "metadata": {},
   "outputs": [
    {
     "name": "stdout",
     "output_type": "stream",
     "text": [
      "Enter the value for a: 82\n",
      "Enter the value for b: 22\n",
      "Before swap the value of a = 82 & b=22\n",
      "After swap the value of a = 22 & b = 82\n"
     ]
    }
   ],
   "source": [
    "def swap_number(a,b):\n",
    "    t=a\n",
    "    a=b\n",
    "    b=t\n",
    "    print(f\"After swap the value of a = {a} & b = {b}\")\n",
    "    return\n",
    "\n",
    "a = int(input(\"Enter the value for a: \"))\n",
    "b = int(input(\"Enter the value for b: \"))\n",
    "print(f\"Before swap the value of a = {a} & b={b}\")\n",
    "swap_number(a,b)\n"
   ]
  },
  {
   "cell_type": "raw",
   "metadata": {},
   "source": [
    "Write a Program to swap 2 numbers in Python without using a temporary variable"
   ]
  },
  {
   "cell_type": "code",
   "execution_count": 10,
   "metadata": {},
   "outputs": [
    {
     "name": "stdout",
     "output_type": "stream",
     "text": [
      "Enter the value for a: 82\n",
      "Enter the value for b: 22\n",
      "Before swap the value of a = 82 & b=22\n",
      "After swap the value of a = 22 & b = 82\n"
     ]
    }
   ],
   "source": [
    "def swap_number(a,b):\n",
    "    a=a+b\n",
    "    b=a-b\n",
    "    a=a-b\n",
    "    print(f\"After swap the value of a = {a} & b = {b}\")\n",
    "    return\n",
    "\n",
    "a = int(input(\"Enter the value for a: \"))\n",
    "b = int(input(\"Enter the value for b: \"))\n",
    "print(f\"Before swap the value of a = {a} & b={b}\")\n",
    "swap_number(a,b)"
   ]
  },
  {
   "cell_type": "raw",
   "metadata": {},
   "source": [
    "Write program to convert Fahreheit to Kelvin and Celsius both\n",
    "c/5=((f-32)/9)=((k-273)/5)\n",
    "C=(f-32)*5/9\n",
    "k=((f-32)*5/9)+273 = C+273"
   ]
  },
  {
   "cell_type": "code",
   "execution_count": 6,
   "metadata": {},
   "outputs": [
    {
     "name": "stdout",
     "output_type": "stream",
     "text": [
      "Enter Temperature in Fahreheit:340\n",
      "The temperature is 171.11111111111111°Celsius or 444.1111111111111°Kelvin\n"
     ]
    }
   ],
   "source": [
    "def KelCel(f):\n",
    "    c=(f-32)*5/9\n",
    "    k=c+273\n",
    "    print(f\"The temperature is {c}°Celsius or {k}°Kelvin\")\n",
    "    return\n",
    "a= int(input(\"Enter Temperature in Fahreheit:\"))\n",
    "KelCel(a)\n",
    "    "
   ]
  },
  {
   "cell_type": "raw",
   "metadata": {},
   "source": [
    "Write a program to demonstrate all available data types in Python. Use type() Function"
   ]
  },
  {
   "cell_type": "code",
   "execution_count": 9,
   "metadata": {},
   "outputs": [
    {
     "name": "stdout",
     "output_type": "stream",
     "text": [
      "<class 'str'>\n",
      "<class 'int'>\n",
      "<class 'float'>\n",
      "<class 'complex'>\n",
      "<class 'list'>\n",
      "<class 'tuple'>\n",
      "<class 'dict'>\n",
      "<class 'set'>\n"
     ]
    }
   ],
   "source": [
    "a=\"Dikshit\"\n",
    "b=2\n",
    "c=324.234903\n",
    "d=2+3j\n",
    "e=[\"1\",1,(1,1),1.1]\n",
    "f=(1,2,3,4)\n",
    "g={\"k\":\"Dikshit\",1:\"Do\"}\n",
    "h={\"Dikshit\",2,3,4}\n",
    "\n",
    "print(type(a))\n",
    "print(type(b))\n",
    "print(type(c))\n",
    "print(type(d))\n",
    "print(type(e))\n",
    "print(type(f))\n",
    "print(type(g))\n",
    "print(type(h))"
   ]
  },
  {
   "cell_type": "code",
   "execution_count": null,
   "metadata": {},
   "outputs": [],
   "source": []
  }
 ],
 "metadata": {
  "kernelspec": {
   "display_name": "Python 3",
   "language": "python",
   "name": "python3"
  },
  "language_info": {
   "codemirror_mode": {
    "name": "ipython",
    "version": 3
   },
   "file_extension": ".py",
   "mimetype": "text/x-python",
   "name": "python",
   "nbconvert_exporter": "python",
   "pygments_lexer": "ipython3",
   "version": "3.7.1"
  }
 },
 "nbformat": 4,
 "nbformat_minor": 2
}
