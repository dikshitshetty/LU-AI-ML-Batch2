{
 "cells": [
  {
   "cell_type": "raw",
   "metadata": {},
   "source": [
    "Question 1 :\n",
    "Assuming that we have some email addresses in the \"username@companyname.com\" format, please\n",
    "write a program to print the company name of a given email address. Both user names and company\n",
    "names are composed of letters only.\n",
    "Input Format:\n",
    "The first line of the input contains an email address.\n",
    "Output Format:\n",
    "Print the company name in a single line.\n",
    "Example:\n",
    "Input:\n",
    "john@google.com\n",
    "Output:\n",
    "google."
   ]
  },
  {
   "cell_type": "code",
   "execution_count": 5,
   "metadata": {},
   "outputs": [
    {
     "name": "stdout",
     "output_type": "stream",
     "text": [
      "Enter your email id: john@google.com\n",
      "google"
     ]
    }
   ],
   "source": [
    "x=input(\"Enter your email id: \")\n",
    "for i in range(len(x)):\n",
    "    if x[i]==\"@\":\n",
    "        y=x[i+1:]\n",
    "for i in y:\n",
    "    if i==\".\":\n",
    "        break\n",
    "    else:\n",
    "        print(i,end=\"\")"
   ]
  },
  {
   "cell_type": "raw",
   "metadata": {},
   "source": [
    "Question 2 :\n",
    "Write a program that accepts a comma-separated sequence of words as input and prints the words in a\n",
    "comma-separated sequence after sorting them alphabetically.\n",
    "Input Format:\n",
    "The first line of input contains words separated by the comma.\n",
    "Output Format:\n",
    "Print the sorted words separated by the comma.\n",
    "Example:\n",
    "Input:\n",
    "without,hello,bag,world\n",
    "Output:\n",
    "bag,hello,without,world"
   ]
  },
  {
   "cell_type": "code",
   "execution_count": 6,
   "metadata": {},
   "outputs": [
    {
     "name": "stdout",
     "output_type": "stream",
     "text": [
      "Enter the words you like: without\n",
      "Enter the words you like: hello\n",
      "Enter the words you like: bag\n",
      "Enter the words you like: world\n",
      "Input value is: ['without', 'hello', 'bag', 'world']\n",
      "Output value is: ['bag', 'hello', 'without', 'world']\n"
     ]
    }
   ],
   "source": [
    "words=[]\n",
    "for i in range(1,5):\n",
    "    if i<=4:\n",
    "        x=input(\"Enter the words you like: \")\n",
    "        words.append(x)\n",
    "else:\n",
    "    print(f\"Input value is: {words[0:]}\",sep=\",\")\n",
    "    words.sort()\n",
    "    print(f\"Output value is: {words[0:]}\",sep=\",\")"
   ]
  },
  {
   "cell_type": "raw",
   "metadata": {},
   "source": [
    "Question 3:\n",
    "Create your own Jupyter Notebook for Sets. Reference link:\n",
    "https://www.w3schools.com/python/python_sets.asp"
   ]
  },
  {
   "cell_type": "code",
   "execution_count": 45,
   "metadata": {},
   "outputs": [
    {
     "name": "stdout",
     "output_type": "stream",
     "text": [
      "The Type of this object is <class 'set'>\n",
      "{'cherry', 'apple', 'banana'}\n",
      "cherry\n",
      "apple\n",
      "banana\n",
      "{'kaju', 'Raju', 'baju', 'tarzu'}\n",
      "{'baju', 'Raju', 'tarzu', 'kaju', 'tazo'}\n",
      "This is set3: {1, 2, 3, 4, 5, 6, 7}\n",
      "After using remove: {1, 2, 3, 5, 6, 7}\n",
      "After using dscard: {1, 3, 5, 6, 7}\n",
      "After using pop: {3, 5, 6, 7}\n",
      "After using clear: set()\n",
      "this is set4: {'baju', 'kaju', 'Raju', 'tarzu', 'tazo'}\n",
      "the difference between set2 & set 4 is: set()\n",
      "the intersection between set2 & set 4 is: {'baju', 'Raju', 'tarzu', 'kaju', 'tazo'}\n",
      "False\n",
      "True\n",
      "False\n"
     ]
    }
   ],
   "source": [
    "\"\"\"\n",
    "About Sets\n",
    "-Sets are unordered,immutable i.e. you cannot change its item, undexed i.e. you cannot access its items via index.\n",
    "-Item are placed within curly brackets like you see for dictionaries\n",
    "\"\"\"\n",
    "set1 = {\"apple\", \"banana\", \"cherry\"}\n",
    "print(f\"The Type of this object is {type(set1)}\")\n",
    "print(set1)\n",
    "\n",
    "\n",
    "\"\"\"\n",
    "### Acessing items Within the SET\n",
    "-since the items are unordered, you cannot access the items directly (like you do in other data types like lists) & need to use a loop to iterate through its items using the \"in\" keyword in python\n",
    "\"\"\"\n",
    "for i in set1:\n",
    "    print(i)\n",
    "\"\"\"\n",
    "### Adding items\n",
    "you cannot change the items within the set but you can add more items to it. this can be done using add() or update() to add more than one items to the list\n",
    "\"\"\"\n",
    "set2={\"Raju\",\"baju\",\"kaju\"}\n",
    "set2.add(\"tarzu\")\n",
    "print(set2)\n",
    "set2.update([\"tazo\"])\n",
    "print(set2)\n",
    "\n",
    "\"\"\"\n",
    "### Deleting items\n",
    "remove() or discard() - to remove a particular item from the set\n",
    "pop() - will remove the last item\n",
    "clear() - will empty the set\n",
    "del()  will delete the set itself\n",
    "\"\"\"\n",
    "set3={1,2,3,4,5,6,7}\n",
    "print(f\"This is set3: {set3}\")\n",
    "set3.remove(4)\n",
    "print(f\"After using remove: {set3}\")\n",
    "set3.discard(2)\n",
    "print(f\"After using dscard: {set3}\")\n",
    "set3.pop()\n",
    "print(f\"After using pop: {set3}\")\n",
    "set3.clear()\n",
    "print(f\"After using clear: {set3}\")\n",
    "\n",
    "\"\"\"\n",
    "### Copy\n",
    "copy - will copy the same item to another variable\n",
    "\"\"\"\n",
    "set4=set2.copy()\n",
    "print(f\"this is set4: {set4}\")\n",
    "\n",
    "\"\"\"\n",
    "### Difference(uncommon) & intersectio(common)\n",
    "difference() - will return other values of set which not common with the given set\n",
    "set.difference(given_set)\n",
    "intersection() - will return the value that are common between the 2\n",
    "\"\"\"\n",
    "set4.update([\"bambai\",\"rwanda\"])\n",
    "print(f\"the difference between set2 & set 4 is: {set2.difference(set4)}\")\n",
    "print(f\"the intersection between set2 & set 4 is: {set2.intersection(set4)}\")\n",
    "\n",
    "\"\"\"\n",
    "True or False\n",
    "isdisjoint - Will return True if 2 sets do not have any intersection\n",
    "issubset - Return True, if set is part/subset of the given_set\n",
    "issuperset -Return True, if set contains/parent to the given_set\n",
    "\"\"\"\n",
    "print(set2.isdisjoint(set4))\n",
    "print(set2.issubset(set4))\n",
    "print(set2.issuperset(set4))"
   ]
  },
  {
   "cell_type": "raw",
   "metadata": {},
   "source": [
    "Question 4:\n",
    "Given a list of n-1 numbers ranging from 1 to n, your task is to find the missing number. There are no\n",
    "duplicates.\n",
    "Input Format:\n",
    "The first line contains n-1 numbers with each number separated by a space.\n",
    "Output Format:\n",
    "Print the missing number\n",
    "Example:\n",
    "Input:\n",
    "1 2 4 6 3 7 8\n",
    "Output:\n",
    "5\n",
    "Explanation:\n",
    "In the above list of numbers 5 is missing and hence 5 is the input"
   ]
  },
  {
   "cell_type": "code",
   "execution_count": 16,
   "metadata": {},
   "outputs": [
    {
     "name": "stdout",
     "output_type": "stream",
     "text": [
      "The Input number is: [1, 2, 4, 6, 3, 7, 8]\n",
      "The Missing Number is: 5\n"
     ]
    }
   ],
   "source": [
    "# #Getting a list of numbers from the users\n",
    "# User_inp=[]\n",
    "# n=int(input(\"How many numbers do you want to Enter: \"))\n",
    "# for i in range(1,n+1):\n",
    "#     x=int(input(f\"Enter your number {i}: \"))\n",
    "#     User_inp.append(x)\n",
    "# print(f\"The number provided by user is {User_inp}\")\n",
    "\n",
    "A=[1,2,4,6,3,7,8]\n",
    "print(f\"The Input number is: {A}\")\n",
    "def miss_numb(x):\n",
    "    n=len(x)\n",
    "    B=[]\n",
    "    for i in range(1,n+2):\n",
    "        B.append(i)\n",
    "    C=sum(B)-sum(x)\n",
    "    print(f\"The Missing Number is: {C}\")\n",
    "\n",
    "miss_numb(A)"
   ]
  },
  {
   "cell_type": "raw",
   "metadata": {},
   "source": [
    "Question 5:\n",
    "With a given list L, write a program to print this list L after removing all duplicate values with original order\n",
    "reserved.\n",
    "Example:\n",
    "If the input list is\n",
    "12 24 35 24 88 120 155 88 120 155\n",
    "Then the output should be\n",
    "12 24 35 88 120 155\n",
    "Explanation:\n",
    "Third, the seventh and ninth element of the list L has been removed because it was already present.\n",
    "Input Format:\n",
    "In one line take the elements of the list L with each element separated by a space.\n",
    "Output Format:\n",
    "Print the elements of the modified list in one line with each element separated by a space.\n",
    "Example:\n",
    "Input:\n",
    "12 24 35 24\n",
    "Output:\n",
    "12 24 35"
   ]
  },
  {
   "cell_type": "code",
   "execution_count": 23,
   "metadata": {},
   "outputs": [
    {
     "name": "stdout",
     "output_type": "stream",
     "text": [
      "The input number is: [12, 24, 35, 24]\n",
      "The output number is: [12, 24, 35]\n"
     ]
    }
   ],
   "source": [
    "def remdup(x):\n",
    "    B=[]\n",
    "    s=len(x)\n",
    "    for i in x:\n",
    "        if i not in B:\n",
    "            B.append(i)\n",
    "    print(f\"The output number is: {B}\")\n",
    "A=[12,24,35,24]\n",
    "print(f\"The input number is: {A}\")\n",
    "remdup(A)\n"
   ]
  }
 ],
 "metadata": {
  "kernelspec": {
   "display_name": "Python 3",
   "language": "python",
   "name": "python3"
  },
  "language_info": {
   "codemirror_mode": {
    "name": "ipython",
    "version": 3
   },
   "file_extension": ".py",
   "mimetype": "text/x-python",
   "name": "python",
   "nbconvert_exporter": "python",
   "pygments_lexer": "ipython3",
   "version": "3.7.1"
  }
 },
 "nbformat": 4,
 "nbformat_minor": 2
}
